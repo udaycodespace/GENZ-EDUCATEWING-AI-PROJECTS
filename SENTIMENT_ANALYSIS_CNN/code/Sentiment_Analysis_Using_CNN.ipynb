{
  "nbformat": 4,
  "nbformat_minor": 0,
  "metadata": {
    "colab": {
      "provenance": [],
      "include_colab_link": true
    },
    "kernelspec": {
      "name": "python3",
      "display_name": "Python 3"
    },
    "language_info": {
      "name": "python"
    }
  },
  "cells": [
    {
      "cell_type": "markdown",
      "metadata": {
        "id": "view-in-github",
        "colab_type": "text"
      },
      "source": [
        "<a href=\"https://colab.research.google.com/github/udaycodespace/GENZ-EDUCATEWING-AI-PROJECTS/blob/main/SENTIMENT_ANALYSIS_CNN/code/Sentiment_Analysis_Using_CNN.ipynb\" target=\"_parent\"><img src=\"https://colab.research.google.com/assets/colab-badge.svg\" alt=\"Open In Colab\"/></a>"
      ]
    },
    {
      "cell_type": "markdown",
      "source": [
        "# 🧠 PROJECTx1: Sentiment Analysis Using CNN\n",
        "\n",
        "| 📘 Field       | 📝 Details                              |\n",
        "|----------------|------------------------------------------|\n",
        "| 👨‍🎓 Course     | Artificial Intelligence (SIT2025)        |\n",
        "| 🏢 Internship  | GENZ EDUCATEWING                        |\n",
        "| 📅 Date        | 18-06-2025                              |\n",
        "| 👨‍💻 Author     | SOMAPURAM UDAY                          |\n",
        "\n",
        "---\n",
        "\n",
        "## 📌 Objective\n",
        "\n",
        "Build a CNN-based model that classifies text reviews into one of the following sentiment categories:\n",
        "\n",
        "- Positive  \n",
        "- Negative\n",
        "\n",
        "---\n",
        "\n",
        "## 🚀 How It Works\n",
        "\n",
        "### ✅ Environment Setup\n",
        "\n",
        "- Install and import libraries: **TensorFlow**, **Keras**, **NLTK**, **Pandas**, etc.\n",
        "\n",
        "### 📥 Data Acquisition\n",
        "\n",
        "- Load the **IMDB movie reviews dataset** from Keras  \n",
        "- Labels: `0 = Negative`, `1 = Positive`\n",
        "\n",
        "### 🧹 Preprocessing Steps\n",
        "\n",
        "- Convert text to lowercase  \n",
        "- Remove HTML tags  \n",
        "- Handle negations using regex  \n",
        "- Remove stopwords  \n",
        "- Tokenize text  \n",
        "- Pad sequences to fixed length\n",
        "\n",
        "### 🏗️ Model Building\n",
        "\n",
        "- Use **Conv1D layers** with kernel sizes `[3, 4, 5]`  \n",
        "- Apply **Global MaxPooling**, **Dropout**, and **Dense** layers  \n",
        "- Final layer: **Sigmoid activation** for binary classification\n",
        "\n",
        "### 🎯 Training\n",
        "\n",
        "- **Loss Function**: `binary_crossentropy`  \n",
        "- **Optimizer**: `Adam`  \n",
        "- Apply **EarlyStopping** and **ModelCheckpoint**\n",
        "\n",
        "---\n",
        "\n",
        "## 📊 Evaluation\n",
        "\n",
        "- **Accuracy and Loss Plots**: Visualize model training progress  \n",
        "- **Confusion Matrix**: Display true vs predicted labels  \n",
        "- **Binary Classification Report**: Detailed precision/recall/F1\n",
        "\n",
        "#### 📈 Evaluation Metrics Used\n",
        "\n",
        "| Metric                       | Description                                                     |\n",
        "|-----------------------------|-----------------------------------------------------------------|\n",
        "| **Accuracy**                | Overall correctness of predictions                             |\n",
        "| **Precision**               | Reliability of positive predictions                            |\n",
        "| **Recall**                  | Ability to correctly identify positive reviews                 |\n",
        "| **F1-Score**                | Balance between precision and recall                           |\n",
        "| **AUC-ROC**                 | Ability to distinguish between classes at various thresholds   |\n",
        "| **Binary Cross-Entropy Loss** | Optimization loss used during training                      |\n",
        "| **Confusion Matrix**        | Visual breakdown of TP, TN, FP, FN                             |"
      ],
      "metadata": {
        "id": "5KRMFjG9UqGv"
      }
    },
    {
      "cell_type": "markdown",
      "source": [
        "# 🔧 Code Summary"
      ],
      "metadata": {
        "id": "PVqBqywN6XlL"
      }
    },
    {
      "cell_type": "code",
      "execution_count": 1,
      "metadata": {
        "id": "4v9tr-7MRNHk"
      },
      "outputs": [],
      "source": [
        "# Imports\n",
        "import re\n",
        "import numpy as np\n",
        "import matplotlib.pyplot as plt\n",
        "import nltk\n",
        "from nltk.corpus import stopwords\n",
        "from tensorflow.keras.datasets import imdb\n",
        "from tensorflow.keras.preprocessing.sequence import pad_sequences\n",
        "from tensorflow.keras.preprocessing.text import text_to_word_sequence\n",
        "from tensorflow.keras.models import Model, load_model\n",
        "from tensorflow.keras.layers import Input, Embedding, Conv1D, GlobalMaxPooling1D, concatenate, Dropout, Dense\n",
        "from tensorflow.keras.callbacks import EarlyStopping, ModelCheckpoint"
      ]
    },
    {
      "cell_type": "code",
      "source": [
        "# Constants\n",
        "VOCAB_SIZE = 10000\n",
        "MAX_LEN = 200\n",
        "EMBED_DIM = 128\n",
        "BATCH_SIZE = 128\n",
        "EPOCHS = 8\n",
        "MODEL_PATH = 'sentiment_cnn_binary.keras'"
      ],
      "metadata": {
        "id": "mKAbMrRTTGGP"
      },
      "execution_count": 2,
      "outputs": []
    },
    {
      "cell_type": "code",
      "source": [
        "# Load stopwords\n",
        "nltk.download('stopwords')\n",
        "STOPWORDS = set(stopwords.words('english'))"
      ],
      "metadata": {
        "colab": {
          "base_uri": "https://localhost:8080/"
        },
        "id": "4UK1XuC2TJwq",
        "outputId": "9372d82b-4acb-4e79-b355-1a3f26f084ce"
      },
      "execution_count": 3,
      "outputs": [
        {
          "output_type": "stream",
          "name": "stderr",
          "text": [
            "[nltk_data] Downloading package stopwords to /root/nltk_data...\n",
            "[nltk_data]   Unzipping corpora/stopwords.zip.\n"
          ]
        }
      ]
    },
    {
      "cell_type": "markdown",
      "source": [
        "> **📌 Note for Beginners:**  \n",
        "> You might see the following lines in red in github:\n",
        ">\n",
        "> ```\n",
        "> [nltk_data] Downloading package stopwords to /root/nltk_data...\n",
        "> [nltk_data]   Unzipping corpora/stopwords.zip.\n",
        "> ```\n",
        ">\n",
        "> 🔴 **Why is it red?**  \n",
        "> It's just how the terminal shows system logs or download messages — it does **not mean there's an error**.  \n",
        ">\n",
        "> 🧠 **What's happening?**  \n",
        "> The program is downloading a set of common English words called **stopwords** (like \"is\", \"the\", \"and\") which are usually removed during text processing. This happens only the first time.\n",
        ">\n",
        "> ✅ **If your final result is printed and there are no errors — your code is working fine!**  \n",
        ">\n",
        "> ℹ️ These red lines are normal, safe to ignore, and only appear once unless the data is cleared or run in a new environment.\n"
      ],
      "metadata": {
        "id": "FesV8kaGCveQ"
      }
    },
    {
      "cell_type": "code",
      "source": [
        "# Load IMDB Data\n",
        "(x_train, y_train), (x_test, y_test) = imdb.load_data(num_words=VOCAB_SIZE)\n",
        "x_train = pad_sequences(x_train, MAX_LEN)\n",
        "x_test = pad_sequences(x_test, MAX_LEN)"
      ],
      "metadata": {
        "colab": {
          "base_uri": "https://localhost:8080/"
        },
        "id": "S2y11IFSTMfO",
        "outputId": "a1615229-f7e0-4461-ba26-575db7a50824"
      },
      "execution_count": 4,
      "outputs": [
        {
          "output_type": "stream",
          "name": "stdout",
          "text": [
            "Downloading data from https://storage.googleapis.com/tensorflow/tf-keras-datasets/imdb.npz\n",
            "\u001b[1m17464789/17464789\u001b[0m \u001b[32m━━━━━━━━━━━━━━━━━━━━\u001b[0m\u001b[37m\u001b[0m \u001b[1m0s\u001b[0m 0us/step\n"
          ]
        }
      ]
    },
    {
      "cell_type": "code",
      "source": [
        "# Word Index\n",
        "word_index = {k: (v+3) for k, v in imdb.get_word_index().items()}\n",
        "word_index.update({'<PAD>':0, '<START>':1, '<UNK>':2, '<UNUSED>':3})"
      ],
      "metadata": {
        "colab": {
          "base_uri": "https://localhost:8080/"
        },
        "id": "fopL24IqTJ6A",
        "outputId": "29db3ee7-02bf-47cb-88f3-cf885c59cdac"
      },
      "execution_count": 5,
      "outputs": [
        {
          "output_type": "stream",
          "name": "stdout",
          "text": [
            "Downloading data from https://storage.googleapis.com/tensorflow/tf-keras-datasets/imdb_word_index.json\n",
            "\u001b[1m1641221/1641221\u001b[0m \u001b[32m━━━━━━━━━━━━━━━━━━━━\u001b[0m\u001b[37m\u001b[0m \u001b[1m0s\u001b[0m 0us/step\n"
          ]
        }
      ]
    },
    {
      "cell_type": "code",
      "source": [
        "# Preprocessing Function\n",
        "def text_to_seq(text):\n",
        "    text = text.lower()\n",
        "    text = re.sub(r\"\\bnot\\s+(\\w+)\", r\"not_\\1\", text)\n",
        "    text = re.sub(r\"<.*?>\", \"\", text)\n",
        "    tokens = text_to_word_sequence(text)\n",
        "    tokens = [t for t in tokens if t not in STOPWORDS]\n",
        "    seq = [1] + [word_index.get(t, 2) for t in tokens]\n",
        "    return pad_sequences([seq], MAX_LEN, padding='post')[0]"
      ],
      "metadata": {
        "id": "YeaXK--8TYiH"
      },
      "execution_count": 6,
      "outputs": []
    },
    {
      "cell_type": "code",
      "source": [
        "# Building Model\n",
        "def build_model():\n",
        "    inp = Input(shape=(MAX_LEN,))\n",
        "    x = Embedding(VOCAB_SIZE, EMBED_DIM)(inp)\n",
        "    convs = []\n",
        "    for k in [3, 4, 5]:\n",
        "        c = Conv1D(128, k, activation='relu')(x)\n",
        "        p = GlobalMaxPooling1D()(c)\n",
        "        convs.append(p)\n",
        "    x = concatenate(convs)\n",
        "    x = Dropout(0.5)(x)\n",
        "    x = Dense(64, activation='relu')(x)\n",
        "    x = Dropout(0.5)(x)\n",
        "    out = Dense(1, activation='sigmoid')(x)\n",
        "    model = Model(inp, out)\n",
        "    model.compile(optimizer='adam', loss='binary_crossentropy', metrics=['accuracy'])\n",
        "    return model\n",
        "\n",
        "model = build_model()\n",
        "model.summary()"
      ],
      "metadata": {
        "colab": {
          "base_uri": "https://localhost:8080/",
          "height": 657
        },
        "id": "PV4oiCspTckn",
        "outputId": "9538d239-a6a2-4fca-c20a-079b3b6012bc"
      },
      "execution_count": 7,
      "outputs": [
        {
          "output_type": "display_data",
          "data": {
            "text/plain": [
              "\u001b[1mModel: \"functional\"\u001b[0m\n"
            ],
            "text/html": [
              "<pre style=\"white-space:pre;overflow-x:auto;line-height:normal;font-family:Menlo,'DejaVu Sans Mono',consolas,'Courier New',monospace\"><span style=\"font-weight: bold\">Model: \"functional\"</span>\n",
              "</pre>\n"
            ]
          },
          "metadata": {}
        },
        {
          "output_type": "display_data",
          "data": {
            "text/plain": [
              "┏━━━━━━━━━━━━━━━━━━━━━┳━━━━━━━━━━━━━━━━━━━┳━━━━━━━━━━━━┳━━━━━━━━━━━━━━━━━━━┓\n",
              "┃\u001b[1m \u001b[0m\u001b[1mLayer (type)       \u001b[0m\u001b[1m \u001b[0m┃\u001b[1m \u001b[0m\u001b[1mOutput Shape     \u001b[0m\u001b[1m \u001b[0m┃\u001b[1m \u001b[0m\u001b[1m   Param #\u001b[0m\u001b[1m \u001b[0m┃\u001b[1m \u001b[0m\u001b[1mConnected to     \u001b[0m\u001b[1m \u001b[0m┃\n",
              "┡━━━━━━━━━━━━━━━━━━━━━╇━━━━━━━━━━━━━━━━━━━╇━━━━━━━━━━━━╇━━━━━━━━━━━━━━━━━━━┩\n",
              "│ input_layer         │ (\u001b[38;5;45mNone\u001b[0m, \u001b[38;5;34m200\u001b[0m)       │          \u001b[38;5;34m0\u001b[0m │ -                 │\n",
              "│ (\u001b[38;5;33mInputLayer\u001b[0m)        │                   │            │                   │\n",
              "├─────────────────────┼───────────────────┼────────────┼───────────────────┤\n",
              "│ embedding           │ (\u001b[38;5;45mNone\u001b[0m, \u001b[38;5;34m200\u001b[0m, \u001b[38;5;34m128\u001b[0m)  │  \u001b[38;5;34m1,280,000\u001b[0m │ input_layer[\u001b[38;5;34m0\u001b[0m][\u001b[38;5;34m0\u001b[0m] │\n",
              "│ (\u001b[38;5;33mEmbedding\u001b[0m)         │                   │            │                   │\n",
              "├─────────────────────┼───────────────────┼────────────┼───────────────────┤\n",
              "│ conv1d (\u001b[38;5;33mConv1D\u001b[0m)     │ (\u001b[38;5;45mNone\u001b[0m, \u001b[38;5;34m198\u001b[0m, \u001b[38;5;34m128\u001b[0m)  │     \u001b[38;5;34m49,280\u001b[0m │ embedding[\u001b[38;5;34m0\u001b[0m][\u001b[38;5;34m0\u001b[0m]   │\n",
              "├─────────────────────┼───────────────────┼────────────┼───────────────────┤\n",
              "│ conv1d_1 (\u001b[38;5;33mConv1D\u001b[0m)   │ (\u001b[38;5;45mNone\u001b[0m, \u001b[38;5;34m197\u001b[0m, \u001b[38;5;34m128\u001b[0m)  │     \u001b[38;5;34m65,664\u001b[0m │ embedding[\u001b[38;5;34m0\u001b[0m][\u001b[38;5;34m0\u001b[0m]   │\n",
              "├─────────────────────┼───────────────────┼────────────┼───────────────────┤\n",
              "│ conv1d_2 (\u001b[38;5;33mConv1D\u001b[0m)   │ (\u001b[38;5;45mNone\u001b[0m, \u001b[38;5;34m196\u001b[0m, \u001b[38;5;34m128\u001b[0m)  │     \u001b[38;5;34m82,048\u001b[0m │ embedding[\u001b[38;5;34m0\u001b[0m][\u001b[38;5;34m0\u001b[0m]   │\n",
              "├─────────────────────┼───────────────────┼────────────┼───────────────────┤\n",
              "│ global_max_pooling… │ (\u001b[38;5;45mNone\u001b[0m, \u001b[38;5;34m128\u001b[0m)       │          \u001b[38;5;34m0\u001b[0m │ conv1d[\u001b[38;5;34m0\u001b[0m][\u001b[38;5;34m0\u001b[0m]      │\n",
              "│ (\u001b[38;5;33mGlobalMaxPooling1…\u001b[0m │                   │            │                   │\n",
              "├─────────────────────┼───────────────────┼────────────┼───────────────────┤\n",
              "│ global_max_pooling… │ (\u001b[38;5;45mNone\u001b[0m, \u001b[38;5;34m128\u001b[0m)       │          \u001b[38;5;34m0\u001b[0m │ conv1d_1[\u001b[38;5;34m0\u001b[0m][\u001b[38;5;34m0\u001b[0m]    │\n",
              "│ (\u001b[38;5;33mGlobalMaxPooling1…\u001b[0m │                   │            │                   │\n",
              "├─────────────────────┼───────────────────┼────────────┼───────────────────┤\n",
              "│ global_max_pooling… │ (\u001b[38;5;45mNone\u001b[0m, \u001b[38;5;34m128\u001b[0m)       │          \u001b[38;5;34m0\u001b[0m │ conv1d_2[\u001b[38;5;34m0\u001b[0m][\u001b[38;5;34m0\u001b[0m]    │\n",
              "│ (\u001b[38;5;33mGlobalMaxPooling1…\u001b[0m │                   │            │                   │\n",
              "├─────────────────────┼───────────────────┼────────────┼───────────────────┤\n",
              "│ concatenate         │ (\u001b[38;5;45mNone\u001b[0m, \u001b[38;5;34m384\u001b[0m)       │          \u001b[38;5;34m0\u001b[0m │ global_max_pooli… │\n",
              "│ (\u001b[38;5;33mConcatenate\u001b[0m)       │                   │            │ global_max_pooli… │\n",
              "│                     │                   │            │ global_max_pooli… │\n",
              "├─────────────────────┼───────────────────┼────────────┼───────────────────┤\n",
              "│ dropout (\u001b[38;5;33mDropout\u001b[0m)   │ (\u001b[38;5;45mNone\u001b[0m, \u001b[38;5;34m384\u001b[0m)       │          \u001b[38;5;34m0\u001b[0m │ concatenate[\u001b[38;5;34m0\u001b[0m][\u001b[38;5;34m0\u001b[0m] │\n",
              "├─────────────────────┼───────────────────┼────────────┼───────────────────┤\n",
              "│ dense (\u001b[38;5;33mDense\u001b[0m)       │ (\u001b[38;5;45mNone\u001b[0m, \u001b[38;5;34m64\u001b[0m)        │     \u001b[38;5;34m24,640\u001b[0m │ dropout[\u001b[38;5;34m0\u001b[0m][\u001b[38;5;34m0\u001b[0m]     │\n",
              "├─────────────────────┼───────────────────┼────────────┼───────────────────┤\n",
              "│ dropout_1 (\u001b[38;5;33mDropout\u001b[0m) │ (\u001b[38;5;45mNone\u001b[0m, \u001b[38;5;34m64\u001b[0m)        │          \u001b[38;5;34m0\u001b[0m │ dense[\u001b[38;5;34m0\u001b[0m][\u001b[38;5;34m0\u001b[0m]       │\n",
              "├─────────────────────┼───────────────────┼────────────┼───────────────────┤\n",
              "│ dense_1 (\u001b[38;5;33mDense\u001b[0m)     │ (\u001b[38;5;45mNone\u001b[0m, \u001b[38;5;34m1\u001b[0m)         │         \u001b[38;5;34m65\u001b[0m │ dropout_1[\u001b[38;5;34m0\u001b[0m][\u001b[38;5;34m0\u001b[0m]   │\n",
              "└─────────────────────┴───────────────────┴────────────┴───────────────────┘\n"
            ],
            "text/html": [
              "<pre style=\"white-space:pre;overflow-x:auto;line-height:normal;font-family:Menlo,'DejaVu Sans Mono',consolas,'Courier New',monospace\">┏━━━━━━━━━━━━━━━━━━━━━┳━━━━━━━━━━━━━━━━━━━┳━━━━━━━━━━━━┳━━━━━━━━━━━━━━━━━━━┓\n",
              "┃<span style=\"font-weight: bold\"> Layer (type)        </span>┃<span style=\"font-weight: bold\"> Output Shape      </span>┃<span style=\"font-weight: bold\">    Param # </span>┃<span style=\"font-weight: bold\"> Connected to      </span>┃\n",
              "┡━━━━━━━━━━━━━━━━━━━━━╇━━━━━━━━━━━━━━━━━━━╇━━━━━━━━━━━━╇━━━━━━━━━━━━━━━━━━━┩\n",
              "│ input_layer         │ (<span style=\"color: #00d7ff; text-decoration-color: #00d7ff\">None</span>, <span style=\"color: #00af00; text-decoration-color: #00af00\">200</span>)       │          <span style=\"color: #00af00; text-decoration-color: #00af00\">0</span> │ -                 │\n",
              "│ (<span style=\"color: #0087ff; text-decoration-color: #0087ff\">InputLayer</span>)        │                   │            │                   │\n",
              "├─────────────────────┼───────────────────┼────────────┼───────────────────┤\n",
              "│ embedding           │ (<span style=\"color: #00d7ff; text-decoration-color: #00d7ff\">None</span>, <span style=\"color: #00af00; text-decoration-color: #00af00\">200</span>, <span style=\"color: #00af00; text-decoration-color: #00af00\">128</span>)  │  <span style=\"color: #00af00; text-decoration-color: #00af00\">1,280,000</span> │ input_layer[<span style=\"color: #00af00; text-decoration-color: #00af00\">0</span>][<span style=\"color: #00af00; text-decoration-color: #00af00\">0</span>] │\n",
              "│ (<span style=\"color: #0087ff; text-decoration-color: #0087ff\">Embedding</span>)         │                   │            │                   │\n",
              "├─────────────────────┼───────────────────┼────────────┼───────────────────┤\n",
              "│ conv1d (<span style=\"color: #0087ff; text-decoration-color: #0087ff\">Conv1D</span>)     │ (<span style=\"color: #00d7ff; text-decoration-color: #00d7ff\">None</span>, <span style=\"color: #00af00; text-decoration-color: #00af00\">198</span>, <span style=\"color: #00af00; text-decoration-color: #00af00\">128</span>)  │     <span style=\"color: #00af00; text-decoration-color: #00af00\">49,280</span> │ embedding[<span style=\"color: #00af00; text-decoration-color: #00af00\">0</span>][<span style=\"color: #00af00; text-decoration-color: #00af00\">0</span>]   │\n",
              "├─────────────────────┼───────────────────┼────────────┼───────────────────┤\n",
              "│ conv1d_1 (<span style=\"color: #0087ff; text-decoration-color: #0087ff\">Conv1D</span>)   │ (<span style=\"color: #00d7ff; text-decoration-color: #00d7ff\">None</span>, <span style=\"color: #00af00; text-decoration-color: #00af00\">197</span>, <span style=\"color: #00af00; text-decoration-color: #00af00\">128</span>)  │     <span style=\"color: #00af00; text-decoration-color: #00af00\">65,664</span> │ embedding[<span style=\"color: #00af00; text-decoration-color: #00af00\">0</span>][<span style=\"color: #00af00; text-decoration-color: #00af00\">0</span>]   │\n",
              "├─────────────────────┼───────────────────┼────────────┼───────────────────┤\n",
              "│ conv1d_2 (<span style=\"color: #0087ff; text-decoration-color: #0087ff\">Conv1D</span>)   │ (<span style=\"color: #00d7ff; text-decoration-color: #00d7ff\">None</span>, <span style=\"color: #00af00; text-decoration-color: #00af00\">196</span>, <span style=\"color: #00af00; text-decoration-color: #00af00\">128</span>)  │     <span style=\"color: #00af00; text-decoration-color: #00af00\">82,048</span> │ embedding[<span style=\"color: #00af00; text-decoration-color: #00af00\">0</span>][<span style=\"color: #00af00; text-decoration-color: #00af00\">0</span>]   │\n",
              "├─────────────────────┼───────────────────┼────────────┼───────────────────┤\n",
              "│ global_max_pooling… │ (<span style=\"color: #00d7ff; text-decoration-color: #00d7ff\">None</span>, <span style=\"color: #00af00; text-decoration-color: #00af00\">128</span>)       │          <span style=\"color: #00af00; text-decoration-color: #00af00\">0</span> │ conv1d[<span style=\"color: #00af00; text-decoration-color: #00af00\">0</span>][<span style=\"color: #00af00; text-decoration-color: #00af00\">0</span>]      │\n",
              "│ (<span style=\"color: #0087ff; text-decoration-color: #0087ff\">GlobalMaxPooling1…</span> │                   │            │                   │\n",
              "├─────────────────────┼───────────────────┼────────────┼───────────────────┤\n",
              "│ global_max_pooling… │ (<span style=\"color: #00d7ff; text-decoration-color: #00d7ff\">None</span>, <span style=\"color: #00af00; text-decoration-color: #00af00\">128</span>)       │          <span style=\"color: #00af00; text-decoration-color: #00af00\">0</span> │ conv1d_1[<span style=\"color: #00af00; text-decoration-color: #00af00\">0</span>][<span style=\"color: #00af00; text-decoration-color: #00af00\">0</span>]    │\n",
              "│ (<span style=\"color: #0087ff; text-decoration-color: #0087ff\">GlobalMaxPooling1…</span> │                   │            │                   │\n",
              "├─────────────────────┼───────────────────┼────────────┼───────────────────┤\n",
              "│ global_max_pooling… │ (<span style=\"color: #00d7ff; text-decoration-color: #00d7ff\">None</span>, <span style=\"color: #00af00; text-decoration-color: #00af00\">128</span>)       │          <span style=\"color: #00af00; text-decoration-color: #00af00\">0</span> │ conv1d_2[<span style=\"color: #00af00; text-decoration-color: #00af00\">0</span>][<span style=\"color: #00af00; text-decoration-color: #00af00\">0</span>]    │\n",
              "│ (<span style=\"color: #0087ff; text-decoration-color: #0087ff\">GlobalMaxPooling1…</span> │                   │            │                   │\n",
              "├─────────────────────┼───────────────────┼────────────┼───────────────────┤\n",
              "│ concatenate         │ (<span style=\"color: #00d7ff; text-decoration-color: #00d7ff\">None</span>, <span style=\"color: #00af00; text-decoration-color: #00af00\">384</span>)       │          <span style=\"color: #00af00; text-decoration-color: #00af00\">0</span> │ global_max_pooli… │\n",
              "│ (<span style=\"color: #0087ff; text-decoration-color: #0087ff\">Concatenate</span>)       │                   │            │ global_max_pooli… │\n",
              "│                     │                   │            │ global_max_pooli… │\n",
              "├─────────────────────┼───────────────────┼────────────┼───────────────────┤\n",
              "│ dropout (<span style=\"color: #0087ff; text-decoration-color: #0087ff\">Dropout</span>)   │ (<span style=\"color: #00d7ff; text-decoration-color: #00d7ff\">None</span>, <span style=\"color: #00af00; text-decoration-color: #00af00\">384</span>)       │          <span style=\"color: #00af00; text-decoration-color: #00af00\">0</span> │ concatenate[<span style=\"color: #00af00; text-decoration-color: #00af00\">0</span>][<span style=\"color: #00af00; text-decoration-color: #00af00\">0</span>] │\n",
              "├─────────────────────┼───────────────────┼────────────┼───────────────────┤\n",
              "│ dense (<span style=\"color: #0087ff; text-decoration-color: #0087ff\">Dense</span>)       │ (<span style=\"color: #00d7ff; text-decoration-color: #00d7ff\">None</span>, <span style=\"color: #00af00; text-decoration-color: #00af00\">64</span>)        │     <span style=\"color: #00af00; text-decoration-color: #00af00\">24,640</span> │ dropout[<span style=\"color: #00af00; text-decoration-color: #00af00\">0</span>][<span style=\"color: #00af00; text-decoration-color: #00af00\">0</span>]     │\n",
              "├─────────────────────┼───────────────────┼────────────┼───────────────────┤\n",
              "│ dropout_1 (<span style=\"color: #0087ff; text-decoration-color: #0087ff\">Dropout</span>) │ (<span style=\"color: #00d7ff; text-decoration-color: #00d7ff\">None</span>, <span style=\"color: #00af00; text-decoration-color: #00af00\">64</span>)        │          <span style=\"color: #00af00; text-decoration-color: #00af00\">0</span> │ dense[<span style=\"color: #00af00; text-decoration-color: #00af00\">0</span>][<span style=\"color: #00af00; text-decoration-color: #00af00\">0</span>]       │\n",
              "├─────────────────────┼───────────────────┼────────────┼───────────────────┤\n",
              "│ dense_1 (<span style=\"color: #0087ff; text-decoration-color: #0087ff\">Dense</span>)     │ (<span style=\"color: #00d7ff; text-decoration-color: #00d7ff\">None</span>, <span style=\"color: #00af00; text-decoration-color: #00af00\">1</span>)         │         <span style=\"color: #00af00; text-decoration-color: #00af00\">65</span> │ dropout_1[<span style=\"color: #00af00; text-decoration-color: #00af00\">0</span>][<span style=\"color: #00af00; text-decoration-color: #00af00\">0</span>]   │\n",
              "└─────────────────────┴───────────────────┴────────────┴───────────────────┘\n",
              "</pre>\n"
            ]
          },
          "metadata": {}
        },
        {
          "output_type": "display_data",
          "data": {
            "text/plain": [
              "\u001b[1m Total params: \u001b[0m\u001b[38;5;34m1,501,697\u001b[0m (5.73 MB)\n"
            ],
            "text/html": [
              "<pre style=\"white-space:pre;overflow-x:auto;line-height:normal;font-family:Menlo,'DejaVu Sans Mono',consolas,'Courier New',monospace\"><span style=\"font-weight: bold\"> Total params: </span><span style=\"color: #00af00; text-decoration-color: #00af00\">1,501,697</span> (5.73 MB)\n",
              "</pre>\n"
            ]
          },
          "metadata": {}
        },
        {
          "output_type": "display_data",
          "data": {
            "text/plain": [
              "\u001b[1m Trainable params: \u001b[0m\u001b[38;5;34m1,501,697\u001b[0m (5.73 MB)\n"
            ],
            "text/html": [
              "<pre style=\"white-space:pre;overflow-x:auto;line-height:normal;font-family:Menlo,'DejaVu Sans Mono',consolas,'Courier New',monospace\"><span style=\"font-weight: bold\"> Trainable params: </span><span style=\"color: #00af00; text-decoration-color: #00af00\">1,501,697</span> (5.73 MB)\n",
              "</pre>\n"
            ]
          },
          "metadata": {}
        },
        {
          "output_type": "display_data",
          "data": {
            "text/plain": [
              "\u001b[1m Non-trainable params: \u001b[0m\u001b[38;5;34m0\u001b[0m (0.00 B)\n"
            ],
            "text/html": [
              "<pre style=\"white-space:pre;overflow-x:auto;line-height:normal;font-family:Menlo,'DejaVu Sans Mono',consolas,'Courier New',monospace\"><span style=\"font-weight: bold\"> Non-trainable params: </span><span style=\"color: #00af00; text-decoration-color: #00af00\">0</span> (0.00 B)\n",
              "</pre>\n"
            ]
          },
          "metadata": {}
        }
      ]
    },
    {
      "cell_type": "code",
      "source": [
        "# Callbacks\n",
        "callbacks = [\n",
        "    EarlyStopping(monitor='val_loss', patience=2, restore_best_weights=True),\n",
        "    ModelCheckpoint(MODEL_PATH, save_best_only=True)\n",
        "]"
      ],
      "metadata": {
        "id": "A94pBdEQX-dH"
      },
      "execution_count": 8,
      "outputs": []
    },
    {
      "cell_type": "code",
      "source": [
        "# Training\n",
        "history = model.fit(\n",
        "    x_train, y_train,\n",
        "    validation_split=0.1,\n",
        "    batch_size=BATCH_SIZE,\n",
        "    epochs=EPOCHS,\n",
        "    callbacks=callbacks,\n",
        "    verbose=2\n",
        ")"
      ],
      "metadata": {
        "colab": {
          "base_uri": "https://localhost:8080/"
        },
        "id": "hDmq72KLYHJm",
        "outputId": "1b570ab6-f3dc-4d18-d877-b37853003318"
      },
      "execution_count": 9,
      "outputs": [
        {
          "output_type": "stream",
          "name": "stdout",
          "text": [
            "Epoch 1/8\n",
            "176/176 - 133s - 758ms/step - accuracy: 0.6485 - loss: 0.5965 - val_accuracy: 0.8204 - val_loss: 0.4010\n",
            "Epoch 2/8\n",
            "176/176 - 139s - 787ms/step - accuracy: 0.8515 - loss: 0.3477 - val_accuracy: 0.8836 - val_loss: 0.2842\n",
            "Epoch 3/8\n",
            "176/176 - 142s - 807ms/step - accuracy: 0.9133 - loss: 0.2259 - val_accuracy: 0.8940 - val_loss: 0.2735\n",
            "Epoch 4/8\n",
            "176/176 - 130s - 736ms/step - accuracy: 0.9521 - loss: 0.1354 - val_accuracy: 0.8864 - val_loss: 0.3158\n",
            "Epoch 5/8\n",
            "176/176 - 141s - 802ms/step - accuracy: 0.9750 - loss: 0.0791 - val_accuracy: 0.8880 - val_loss: 0.3560\n"
          ]
        }
      ]
    },
    {
      "cell_type": "code",
      "source": [
        "# Evaluating\n",
        "plt.plot(history.history['accuracy'], label='train_acc')\n",
        "plt.plot(history.history['val_accuracy'], label='val_acc')\n",
        "plt.xlabel('Epoch'); plt.ylabel('Accuracy'); plt.legend(); plt.show()"
      ],
      "metadata": {
        "colab": {
          "base_uri": "https://localhost:8080/",
          "height": 449
        },
        "id": "0Ndfj_rz4cfD",
        "outputId": "9edd7542-11d6-460d-dc40-05e8ef8f59f0"
      },
      "execution_count": 10,
      "outputs": [
        {
          "output_type": "display_data",
          "data": {
            "text/plain": [
              "<Figure size 640x480 with 1 Axes>"
            ],
            "image/png": "[encoded data removed]"
          },
          "metadata": {}
        }
      ]
    },
    {
      "cell_type": "code",
      "source": [
        "# 📊 Full Metric-Based Evaluation (Place this right after plotting)\n",
        "from sklearn.metrics import accuracy_score, precision_score, recall_score, f1_score, roc_auc_score, confusion_matrix\n",
        "import numpy as np\n",
        "\n",
        "# Predict probabilities and labels\n",
        "y_pred_prob = model.predict(x_test)\n",
        "y_pred = (y_pred_prob > 0.5).astype('int32')\n",
        "\n",
        "# Flatten arrays for metric functions\n",
        "y_test = y_test.flatten()\n",
        "y_pred = y_pred.flatten()\n",
        "y_pred_prob = y_pred_prob.flatten()\n",
        "\n",
        "# Calculate metrics\n",
        "acc = accuracy_score(y_test, y_pred)\n",
        "prec = precision_score(y_test, y_pred)\n",
        "rec = recall_score(y_test, y_pred)\n",
        "f1 = f1_score(y_test, y_pred)\n",
        "auc = roc_auc_score(y_test, y_pred_prob)\n",
        "cm = confusion_matrix(y_test, y_pred)\n",
        "loss = model.evaluate(x_test, y_test, verbose=0)[0]\n",
        "\n",
        "# Print nicely formatted report\n",
        "print(\"📊 Evaluation Report\")\n",
        "print(\"============================\")\n",
        "print(\"Accuracy                 : {:.4f} – Measures overall correctness of predictions\".format(acc))\n",
        "print(\"Precision                : {:.4f} – Reliability of positive predictions\".format(prec))\n",
        "print(\"Recall                   : {:.4f} – Ability to detect positive reviews\".format(rec))\n",
        "print(\"F1-Score                 : {:.4f} – Balances precision and recall\".format(f1))\n",
        "print(\"AUC-ROC                  : {:.4f} – Measures performance across thresholds\".format(auc))\n",
        "print(\"Binary Cross-Entropy Loss: {:.4f} – Tracks model fit during training\".format(loss))\n",
        "print(\"\\nConfusion Matrix – Visual overview of predictions:\")\n",
        "print(cm)"
      ],
      "metadata": {
        "colab": {
          "base_uri": "https://localhost:8080/"
        },
        "id": "WjC3NPOA8Phy",
        "outputId": "4341ac35-f531-43c7-d920-60290eff40df"
      },
      "execution_count": 11,
      "outputs": [
        {
          "output_type": "stream",
          "name": "stdout",
          "text": [
            "\u001b[1m782/782\u001b[0m \u001b[32m━━━━━━━━━━━━━━━━━━━━\u001b[0m\u001b[37m\u001b[0m \u001b[1m37s\u001b[0m 47ms/step\n",
            "📊 Evaluation Report\n",
            "============================\n",
            "Accuracy                 : 0.8812 – Measures overall correctness of predictions\n",
            "Precision                : 0.8712 – Reliability of positive predictions\n",
            "Recall                   : 0.8946 – Ability to detect positive reviews\n",
            "F1-Score                 : 0.8827 – Balances precision and recall\n",
            "AUC-ROC                  : 0.9524 – Measures performance across thresholds\n",
            "Binary Cross-Entropy Loss: 0.2844 – Tracks model fit during training\n",
            "\n",
            "Confusion Matrix – Visual overview of predictions:\n",
            "[[10846  1654]\n",
            " [ 1317 11183]]\n"
          ]
        }
      ]
    },
    {
      "cell_type": "code",
      "source": [
        "# Loading Best Model\n",
        "model = load_model(MODEL_PATH)"
      ],
      "metadata": {
        "id": "ThHo33vj4i4f"
      },
      "execution_count": 12,
      "outputs": []
    },
    {
      "cell_type": "markdown",
      "source": [
        "🔍 Inference"
      ],
      "metadata": {
        "id": "YKBkjMtR90c2"
      }
    },
    {
      "cell_type": "code",
      "source": [
        "def predict_sentiment(text):\n",
        "    seq = text_to_seq(text)\n",
        "    prob = model.predict(np.array([seq]))[0][0]\n",
        "    label = 'Positive' if prob >= 0.5 else 'Negative'\n",
        "    return label, prob"
      ],
      "metadata": {
        "id": "caTYRo5h4j2U"
      },
      "execution_count": 13,
      "outputs": []
    },
    {
      "cell_type": "code",
      "source": [
        "# Test Samples\n",
        "samples = [\n",
        "    \"I absolutely loved this film!\",\n",
        "    \"Worst movie ever, total waste of time.\",\n",
        "    \"The plot was awful and the acting was worse.\",\n",
        "    \"A masterpiece, every frame was beautiful.\",\n",
        "    \"It was okay, not bad but not great.\"\n",
        "]\n",
        "print(\"\\n--- Inference on Test Set ---\")\n",
        "for s in samples:\n",
        "    label, conf = predict_sentiment(s)\n",
        "    print(f\"{s[:50]:50s} → {label:10s} (conf={conf:.2f})\")"
      ],
      "metadata": {
        "colab": {
          "base_uri": "https://localhost:8080/"
        },
        "id": "mvS2lo8E4lyv",
        "outputId": "d744b240-a05a-4798-9006-1a41291b9051"
      },
      "execution_count": 14,
      "outputs": [
        {
          "output_type": "stream",
          "name": "stdout",
          "text": [
            "\n",
            "--- Inference on Test Set ---\n",
            "\u001b[1m1/1\u001b[0m \u001b[32m━━━━━━━━━━━━━━━━━━━━\u001b[0m\u001b[37m\u001b[0m \u001b[1m0s\u001b[0m 144ms/step\n",
            "I absolutely loved this film!                      → Positive   (conf=0.97)\n",
            "\u001b[1m1/1\u001b[0m \u001b[32m━━━━━━━━━━━━━━━━━━━━\u001b[0m\u001b[37m\u001b[0m \u001b[1m0s\u001b[0m 43ms/step\n",
            "Worst movie ever, total waste of time.             → Negative   (conf=0.00)\n",
            "\u001b[1m1/1\u001b[0m \u001b[32m━━━━━━━━━━━━━━━━━━━━\u001b[0m\u001b[37m\u001b[0m \u001b[1m0s\u001b[0m 42ms/step\n",
            "The plot was awful and the acting was worse.       → Negative   (conf=0.00)\n",
            "\u001b[1m1/1\u001b[0m \u001b[32m━━━━━━━━━━━━━━━━━━━━\u001b[0m\u001b[37m\u001b[0m \u001b[1m0s\u001b[0m 46ms/step\n",
            "A masterpiece, every frame was beautiful.          → Positive   (conf=0.98)\n",
            "\u001b[1m1/1\u001b[0m \u001b[32m━━━━━━━━━━━━━━━━━━━━\u001b[0m\u001b[37m\u001b[0m \u001b[1m0s\u001b[0m 43ms/step\n",
            "It was okay, not bad but not great.                → Negative   (conf=0.44)\n"
          ]
        }
      ]
    },
    {
      "cell_type": "markdown",
      "source": [
        "# 📋 DOCUMENTATION\n",
        "\n",
        "---\n",
        "\n",
        "## 🧪 Methodology\n",
        "\n",
        "- **Dataset**: IMDB — 25,000 training + 25,000 testing samples, labeled for binary sentiment (Positive / Negative)\n",
        "- **Text Preprocessing**:\n",
        "  - Lowercasing\n",
        "  - HTML tag removal\n",
        "  - Negation handling (e.g., \"not good\" → \"not_good\")\n",
        "  - Stopword removal\n",
        "- **CNN Model**:\n",
        "  - Multiple parallel Conv1D layers with varying kernel sizes for capturing n-grams\n",
        "- **Loss & Optimizer**:\n",
        "  - Loss: Binary Cross-Entropy\n",
        "  - Optimizer: Adam\n",
        "\n",
        "---\n",
        "\n",
        "## 🧠 Concepts Used\n",
        "\n",
        "- **CNN for Sentence Classification**  \n",
        "  Used 1D convolutional layers with multiple kernel sizes to extract features from text sequences.\n",
        "\n",
        "- **Text Preprocessing & Sequence Padding**  \n",
        "  Lowercasing, HTML tag removal, stopword filtering, and sequence padding to fixed input length for model compatibility.\n",
        "\n",
        "- **Binary Classification with Sigmoid**  \n",
        "  Final activation function to output probability of positive/negative sentiment.\n",
        "\n",
        "- **Custom Regex & Negation Handling**  \n",
        "  Regular expressions applied to preserve negation meaning (e.g., `not good` → `not_good`).\n",
        "\n",
        "- **Dropout, EarlyStopping for Regularization**  \n",
        "  Techniques to prevent overfitting during training.\n",
        "\n",
        "- **Evaluation using scikit-learn Metrics**  \n",
        "  Used accuracy, precision, recall, F1-score, and AUC-ROC for performance measurement.\n",
        "\n",
        "\n",
        "---\n",
        "\n",
        "## ⚠️ Challenges\n",
        "\n",
        "- **Negation Handling**:\n",
        "  - Improved accuracy by combining negation words (e.g., `not_good`)\n",
        "- **Overfitting**:\n",
        "  - Controlled using `Dropout` and `EarlyStopping`\n",
        "\n",
        "---\n",
        "\n",
        "## 🔭 Future Improvements\n",
        "\n",
        "- Incorporate **GloVe** word embeddings for richer semantic understanding\n",
        "- Explore **Hybrid Models**:\n",
        "  - CNN + LSTM  \n",
        "  - CNN + Attention Mechanism\n",
        "- Apply **Hyperparameter Tuning** using **Keras Tuner** or similar tools\n",
        "\n",
        "---\n",
        "\n",
        "## ✅ Summary\n",
        "\n",
        "An end-to-end binary sentiment analysis system was developed using a Convolutional Neural Network (CNN) trained on the IMDB dataset. It classifies reviews as either positive or negative using carefully designed preprocessing techniques and modern deep learning practices. The system handles linguistic nuances like negations and uses dropout and early stopping to enhance generalization."
      ],
      "metadata": {
        "id": "sEjOCCvGYJut"
      }
    }
  ]
}